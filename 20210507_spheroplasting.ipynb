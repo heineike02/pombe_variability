{
 "cells": [
  {
   "cell_type": "code",
   "execution_count": 1,
   "metadata": {},
   "outputs": [],
   "source": [
    "import pandas as pd\n",
    "import os\n",
    "import matplotlib.pyplot as plt\n",
    "import numpy as np"
   ]
  },
  {
   "cell_type": "code",
   "execution_count": 3,
   "metadata": {},
   "outputs": [],
   "source": [
    "data_dir = os.path.normpath('C:/Users/heineib/Google Drive/Crick_LMS/Wetlab/haemocytometer') + os.sep"
   ]
  },
  {
   "cell_type": "code",
   "execution_count": 6,
   "metadata": {},
   "outputs": [],
   "source": [
    "data_37C = pd.read_excel(data_dir + '20210506_lysis_tests.xlsx', sheet_name='37C_z1p5_g3').fillna(0)"
   ]
  },
  {
   "cell_type": "code",
   "execution_count": 15,
   "metadata": {},
   "outputs": [
    {
     "data": {
      "text/html": [
       "<div>\n",
       "<style scoped>\n",
       "    .dataframe tbody tr th:only-of-type {\n",
       "        vertical-align: middle;\n",
       "    }\n",
       "\n",
       "    .dataframe tbody tr th {\n",
       "        vertical-align: top;\n",
       "    }\n",
       "\n",
       "    .dataframe thead th {\n",
       "        text-align: right;\n",
       "    }\n",
       "</style>\n",
       "<table border=\"1\" class=\"dataframe\">\n",
       "  <thead>\n",
       "    <tr style=\"text-align: right;\">\n",
       "      <th></th>\n",
       "      <th>time</th>\n",
       "      <th>Dilution</th>\n",
       "      <th>Normal</th>\n",
       "      <th>Dark</th>\n",
       "      <th>Burst</th>\n",
       "      <th>Normal.1</th>\n",
       "      <th>Dark.1</th>\n",
       "      <th>Burst.1</th>\n",
       "      <th>Normal.2</th>\n",
       "      <th>Dark.2</th>\n",
       "      <th>...</th>\n",
       "      <th>Normal.3</th>\n",
       "      <th>Dark.3</th>\n",
       "      <th>Burst.3</th>\n",
       "      <th>Normal Mean</th>\n",
       "      <th>Normal STD</th>\n",
       "      <th>Dark Mean</th>\n",
       "      <th>Dark Var</th>\n",
       "      <th>Burst Mean</th>\n",
       "      <th>Burst Var</th>\n",
       "      <th>Total Cells</th>\n",
       "    </tr>\n",
       "  </thead>\n",
       "  <tbody>\n",
       "    <tr>\n",
       "      <th>0</th>\n",
       "      <td>0</td>\n",
       "      <td>15</td>\n",
       "      <td>122</td>\n",
       "      <td>0.0</td>\n",
       "      <td>0.0</td>\n",
       "      <td>122</td>\n",
       "      <td>1</td>\n",
       "      <td>0.0</td>\n",
       "      <td>104</td>\n",
       "      <td>0.0</td>\n",
       "      <td>...</td>\n",
       "      <td>144</td>\n",
       "      <td>0.0</td>\n",
       "      <td>0.0</td>\n",
       "      <td>18450000</td>\n",
       "      <td>2.455606e+06</td>\n",
       "      <td>37500</td>\n",
       "      <td>0.000000e+00</td>\n",
       "      <td>37500</td>\n",
       "      <td>0.000000e+00</td>\n",
       "      <td>18487500</td>\n",
       "    </tr>\n",
       "    <tr>\n",
       "      <th>1</th>\n",
       "      <td>11</td>\n",
       "      <td>15</td>\n",
       "      <td>4</td>\n",
       "      <td>57.0</td>\n",
       "      <td>12.0</td>\n",
       "      <td>19</td>\n",
       "      <td>70</td>\n",
       "      <td>4.0</td>\n",
       "      <td>8</td>\n",
       "      <td>88.0</td>\n",
       "      <td>...</td>\n",
       "      <td>9</td>\n",
       "      <td>88.0</td>\n",
       "      <td>3.0</td>\n",
       "      <td>1500000</td>\n",
       "      <td>9.565563e+05</td>\n",
       "      <td>11362500</td>\n",
       "      <td>2.266192e+06</td>\n",
       "      <td>1050000</td>\n",
       "      <td>6.363961e+05</td>\n",
       "      <td>12862500</td>\n",
       "    </tr>\n",
       "    <tr>\n",
       "      <th>2</th>\n",
       "      <td>29</td>\n",
       "      <td>15</td>\n",
       "      <td>23</td>\n",
       "      <td>35.0</td>\n",
       "      <td>22.0</td>\n",
       "      <td>10</td>\n",
       "      <td>43</td>\n",
       "      <td>25.0</td>\n",
       "      <td>17</td>\n",
       "      <td>61.0</td>\n",
       "      <td>...</td>\n",
       "      <td>8</td>\n",
       "      <td>65.0</td>\n",
       "      <td>15.0</td>\n",
       "      <td>2175000</td>\n",
       "      <td>1.028348e+06</td>\n",
       "      <td>7650000</td>\n",
       "      <td>2.149419e+06</td>\n",
       "      <td>2662500</td>\n",
       "      <td>1.077323e+06</td>\n",
       "      <td>9825000</td>\n",
       "    </tr>\n",
       "  </tbody>\n",
       "</table>\n",
       "<p>3 rows × 21 columns</p>\n",
       "</div>"
      ],
      "text/plain": [
       "   time  Dilution  Normal  Dark  Burst  Normal.1  Dark.1  Burst.1  Normal.2  \\\n",
       "0     0        15     122   0.0    0.0       122       1      0.0       104   \n",
       "1    11        15       4  57.0   12.0        19      70      4.0         8   \n",
       "2    29        15      23  35.0   22.0        10      43     25.0        17   \n",
       "\n",
       "   Dark.2  ...  Normal.3  Dark.3  Burst.3  Normal Mean    Normal STD  \\\n",
       "0     0.0  ...       144     0.0      0.0     18450000  2.455606e+06   \n",
       "1    88.0  ...         9    88.0      3.0      1500000  9.565563e+05   \n",
       "2    61.0  ...         8    65.0     15.0      2175000  1.028348e+06   \n",
       "\n",
       "   Dark Mean      Dark Var  Burst Mean     Burst Var  Total Cells  \n",
       "0      37500  0.000000e+00       37500  0.000000e+00     18487500  \n",
       "1   11362500  2.266192e+06     1050000  6.363961e+05     12862500  \n",
       "2    7650000  2.149419e+06     2662500  1.077323e+06      9825000  \n",
       "\n",
       "[3 rows x 21 columns]"
      ]
     },
     "execution_count": 15,
     "metadata": {},
     "output_type": "execute_result"
    }
   ],
   "source": [
    "data_37C"
   ]
  },
  {
   "cell_type": "code",
   "execution_count": 33,
   "metadata": {},
   "outputs": [
    {
     "data": {
      "text/plain": [
       "(0.0, 20000000.0)"
      ]
     },
     "execution_count": 33,
     "metadata": {},
     "output_type": "execute_result"
    },
    {
     "data": {
      "image/png": "[encoded data removed]",
      "text/plain": [
       "<Figure size 432x288 with 1 Axes>"
      ]
     },
     "metadata": {
      "needs_background": "light"
     },
     "output_type": "display_data"
    }
   ],
   "source": [
    "fig, ax = plt.subplots(1,1)\n",
    "\n",
    "ax.plot(data_37C['time'], data_37C['Normal Mean'], label='Normal Cells')\n",
    "ax.plot(data_37C['time'], data_37C['Dark Mean'], label='Dark Cells')\n",
    "ax.plot(data_37C['time'], data_37C['Dark Mean'] + data_37C['Normal Mean'], label='All Cells')\n",
    "ax.legend()\n",
    "ax.set_xlabel('time(min)')\n",
    "ax.set_ylabel('cells/ml')\n",
    "ax.set_xlim(-1,30)\n",
    "ax.set_ylim(0,2.0e7)"
   ]
  },
  {
   "cell_type": "code",
   "execution_count": 34,
   "metadata": {},
   "outputs": [],
   "source": [
    "data_25C = pd.read_excel(data_dir + '20210506_lysis_tests.xlsx', sheet_name='25C_z1p5_g3').fillna(0)"
   ]
  },
  {
   "cell_type": "code",
   "execution_count": 36,
   "metadata": {},
   "outputs": [
    {
     "data": {
      "text/plain": [
       "(0.0, 20000000.0)"
      ]
     },
     "execution_count": 36,
     "metadata": {},
     "output_type": "execute_result"
    },
    {
     "data": {
      "image/png": "[encoded data removed]",
      "text/plain": [
       "<Figure size 432x288 with 1 Axes>"
      ]
     },
     "metadata": {
      "needs_background": "light"
     },
     "output_type": "display_data"
    }
   ],
   "source": [
    "fig, ax = plt.subplots(1,1)\n",
    "\n",
    "ax.plot(data_25C['time'], data_25C['Normal Mean'], label='Normal Cells')\n",
    "ax.plot(data_25C['time'], data_25C['Dark Mean'], label='Dark Cells')\n",
    "ax.plot(data_25C['time'], data_25C['Dark Mean'] + data_25C['Normal Mean'], label='All Cells')\n",
    "ax.legend()\n",
    "ax.set_xlabel('time(min)')\n",
    "ax.set_ylabel('Log10 cells/ml')\n",
    "ax.set_xlim(-1,30)\n",
    "ax.set_ylim(0,2.0e7)"
   ]
  },
  {
   "cell_type": "code",
   "execution_count": 41,
   "metadata": {},
   "outputs": [],
   "source": [
    "data = pd.read_excel(data_dir + '20210506_lysis_tests.xlsx', sheet_name='25C_z1p5_g1').fillna(0)"
   ]
  },
  {
   "cell_type": "code",
   "execution_count": 43,
   "metadata": {},
   "outputs": [
    {
     "data": {
      "text/plain": [
       "(0.0, 20000000.0)"
      ]
     },
     "execution_count": 43,
     "metadata": {},
     "output_type": "execute_result"
    },
    {
     "data": {
      "image/png": "[encoded data removed]",
      "text/plain": [
       "<Figure size 432x288 with 1 Axes>"
      ]
     },
     "metadata": {
      "needs_background": "light"
     },
     "output_type": "display_data"
    }
   ],
   "source": [
    "fig, ax = plt.subplots(1,1)\n",
    "\n",
    "ax.plot(data['time'], data['Normal Mean'], label='Normal Cells')\n",
    "ax.plot(data['time'], data['Dark Mean'], label='Dark Cells')\n",
    "ax.plot(data['time'], data['Dark Mean'] + data['Normal Mean'], label='All Cells')\n",
    "ax.legend()\n",
    "ax.set_xlabel('time(min)')\n",
    "ax.set_ylabel('Log10 cells/ml')\n",
    "ax.set_xlim(-1,30)\n",
    "ax.set_ylim(0,2.0e7)"
   ]
  },
  {
   "cell_type": "code",
   "execution_count": 60,
   "metadata": {},
   "outputs": [],
   "source": [
    "data_heat = pd.read_excel(data_dir + '20210506_lysis_tests.xlsx', sheet_name='heat_test').fillna(0)"
   ]
  },
  {
   "cell_type": "code",
   "execution_count": 78,
   "metadata": {},
   "outputs": [
    {
     "data": {
      "text/plain": [
       "<matplotlib.legend.Legend at 0x21b6778fe48>"
      ]
     },
     "execution_count": 78,
     "metadata": {},
     "output_type": "execute_result"
    },
    {
     "data": {
      "image/png": "[encoded data removed]",
      "text/plain": [
       "<Figure size 432x288 with 1 Axes>"
      ]
     },
     "metadata": {
      "needs_background": "light"
     },
     "output_type": "display_data"
    }
   ],
   "source": [
    "fig, ax = plt.subplots(1,1)\n",
    "\n",
    "data_sets = {}\n",
    "\n",
    "data_sets['pre'] = data_heat[data_heat['53C_20min']=='no']\n",
    "data_sets['pre'].set_index('time_removed', inplace=True)\n",
    "\n",
    "data_sets['post'] = data_heat[data_heat['53C_20min']=='yes']\n",
    "data_sets['post'].set_index('time_removed', inplace=True)\n",
    "\n",
    "times = [0,3,5,7,10,15]\n",
    "\n",
    "#offset, color\n",
    "params = {'pre':(0,'b', 'no heat'), 'post': (0.28,'r', '53C for 20min')}\n",
    "bw = 0.25\n",
    "\n",
    "\n",
    "\n",
    "inds = {}\n",
    "vals = {}\n",
    "\n",
    "for cond in ['pre', 'post']:\n",
    "    data_set = data_sets[cond]\n",
    "    offset, color, label = params[cond]\n",
    "\n",
    "    inds[cond] = []\n",
    "    vals[cond] = []\n",
    "    for jj, time in enumerate(times): \n",
    "        inds[cond].append(jj + offset)\n",
    "        if (cond=='post') & (time==0):\n",
    "            vals[cond].append(0)\n",
    "        else: \n",
    "            vals[cond].append(data_set.loc[time, 'Dark/Total'])\n",
    "\n",
    "    ax.bar(inds[cond], vals[cond], width= bw, color = color, label = label)\n",
    "\n",
    "ax.set_xticks(np.arange(0,6))\n",
    "ax.set_xticklabels(times)\n",
    "ax.set_xlabel('time at 25C in Z + G')\n",
    "ax.set_ylabel('Fraction Dark Cells')\n",
    "ax.legend()\n",
    "\n",
    "    "
   ]
  },
  {
   "cell_type": "code",
   "execution_count": 81,
   "metadata": {},
   "outputs": [
    {
     "data": {
      "text/plain": [
       "time_removed\n",
       "3      600000\n",
       "5     3575000\n",
       "7     4350000\n",
       "10    6175000\n",
       "15    3150000\n",
       "Name: Dark Mean, dtype: int64"
      ]
     },
     "execution_count": 81,
     "metadata": {},
     "output_type": "execute_result"
    }
   ],
   "source": [
    "data_set['Normal Mean']\n",
    "data_set['Dark Mean']"
   ]
  },
  {
   "cell_type": "code",
   "execution_count": 84,
   "metadata": {},
   "outputs": [
    {
     "data": {
      "text/plain": [
       "<matplotlib.legend.Legend at 0x21b67940e48>"
      ]
     },
     "execution_count": 84,
     "metadata": {},
     "output_type": "execute_result"
    },
    {
     "data": {
      "image/png": "[encoded data removed]",
      "text/plain": [
       "<Figure size 432x288 with 1 Axes>"
      ]
     },
     "metadata": {
      "needs_background": "light"
     },
     "output_type": "display_data"
    }
   ],
   "source": [
    "fig, ax = plt.subplots(1,1)\n",
    "\n",
    "data_sets = {}\n",
    "\n",
    "data_sets['pre'] = data_heat[data_heat['53C_20min']=='no']\n",
    "data_sets['pre'].set_index('time_removed', inplace=True)\n",
    "\n",
    "data_sets['post'] = data_heat[data_heat['53C_20min']=='yes']\n",
    "data_sets['post'].set_index('time_removed', inplace=True)\n",
    "\n",
    "times = [0,3,5,7,10,15]\n",
    "\n",
    "#offset, color\n",
    "params = {'pre':(0,'b', 'no heat'), 'post': (0.28,'r', '53C for 20min')}\n",
    "bw = 0.25\n",
    "\n",
    "\n",
    "\n",
    "inds = {}\n",
    "vals = {}\n",
    "\n",
    "for cond in ['pre', 'post']:\n",
    "    data_set = data_sets[cond]\n",
    "    offset, color, label = params[cond]\n",
    "\n",
    "    inds[cond] = []\n",
    "    vals[cond] = []\n",
    "    for jj, time in enumerate(times): \n",
    "        inds[cond].append(jj + offset)\n",
    "        if (cond=='post') & (time==0):\n",
    "            vals[cond].append(0)\n",
    "        else: \n",
    "            vals[cond].append(data_set.loc[time, 'Normal Mean'])\n",
    "\n",
    "    ax.bar(inds[cond], vals[cond], width= bw, color = color, label = label)\n",
    "\n",
    "ax.set_xticks(np.arange(0,6))\n",
    "ax.set_xticklabels(times)\n",
    "ax.set_xlabel('time at 25C in Z + G')\n",
    "ax.set_ylabel('Normal cells')\n",
    "ax.legend()\n"
   ]
  },
  {
   "cell_type": "code",
   "execution_count": 73,
   "metadata": {},
   "outputs": [
    {
     "data": {
      "text/plain": [
       "\u001b[1;31mSignature:\u001b[0m \u001b[0max\u001b[0m\u001b[1;33m.\u001b[0m\u001b[0mset_xticklabels\u001b[0m\u001b[1;33m(\u001b[0m\u001b[0mlabels\u001b[0m\u001b[1;33m,\u001b[0m \u001b[1;33m*\u001b[0m\u001b[1;33m,\u001b[0m \u001b[0mfontdict\u001b[0m\u001b[1;33m=\u001b[0m\u001b[1;32mNone\u001b[0m\u001b[1;33m,\u001b[0m \u001b[0mminor\u001b[0m\u001b[1;33m=\u001b[0m\u001b[1;32mFalse\u001b[0m\u001b[1;33m,\u001b[0m \u001b[1;33m**\u001b[0m\u001b[0mkwargs\u001b[0m\u001b[1;33m)\u001b[0m\u001b[1;33m\u001b[0m\u001b[1;33m\u001b[0m\u001b[0m\n",
       "\u001b[1;31mDocstring:\u001b[0m\n",
       "Set the xaxis' labels with list of string labels.\n",
       "\n",
       ".. warning::\n",
       "    This method should only be used after fixing the tick positions\n",
       "    using `.Axes.set_xticks`. Otherwise, the labels may end up in\n",
       "    unexpected positions.\n",
       "\n",
       "Parameters\n",
       "----------\n",
       "labels : list of str\n",
       "    The label texts.\n",
       "\n",
       "fontdict : dict, optional\n",
       "    A dictionary controlling the appearance of the ticklabels.\n",
       "    The default *fontdict* is::\n",
       "\n",
       "       {'fontsize': rcParams['axes.titlesize'],\n",
       "        'fontweight': rcParams['axes.titleweight'],\n",
       "        'verticalalignment': 'baseline',\n",
       "        'horizontalalignment': loc}\n",
       "\n",
       "minor : bool, default: False\n",
       "    Whether to set the minor ticklabels rather than the major ones.\n",
       "\n",
       "Returns\n",
       "-------\n",
       "list of `~.Text`\n",
       "    The labels.\n",
       "\n",
       "Other Parameters\n",
       "----------------\n",
       "**kwargs : `~.text.Text` properties.\n",
       "\u001b[1;31mFile:\u001b[0m      c:\\users\\heineib\\anaconda3\\envs\\sc_seq_py\\lib\\site-packages\\matplotlib\\axes\\_base.py\n",
       "\u001b[1;31mType:\u001b[0m      method\n"
      ]
     },
     "metadata": {},
     "output_type": "display_data"
    }
   ],
   "source": [
    "ax.set_xticklabels?\n",
    "#np.arange(0,6)"
   ]
  },
  {
   "cell_type": "code",
   "execution_count": 62,
   "metadata": {},
   "outputs": [
    {
     "data": {
      "text/plain": [
       "0.32905982905982906"
      ]
     },
     "execution_count": 62,
     "metadata": {},
     "output_type": "execute_result"
    }
   ],
   "source": [
    "\n",
    "data_heat.loc[3, 'Dark/Total']"
   ]
  }
 ],
 "metadata": {
  "kernelspec": {
   "display_name": "Python 3",
   "language": "python",
   "name": "python3"
  },
  "language_info": {
   "codemirror_mode": {
    "name": "ipython",
    "version": 3
   },
   "file_extension": ".py",
   "mimetype": "text/x-python",
   "name": "python",
   "nbconvert_exporter": "python",
   "pygments_lexer": "ipython3",
   "version": "3.7.9"
  }
 },
 "nbformat": 4,
 "nbformat_minor": 4
}
